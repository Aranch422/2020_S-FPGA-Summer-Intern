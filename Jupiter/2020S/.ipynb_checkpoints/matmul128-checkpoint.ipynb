{
 "cells": [
  {
   "cell_type": "markdown",
   "metadata": {},
   "source": [
    "## Load Overlay "
   ]
  },
  {
   "cell_type": "code",
   "execution_count": null,
   "metadata": {},
   "outputs": [],
   "source": [
    "from pynq import Overlay\n",
    "from pynq import allocate\n",
    "overlay = Overlay('/home/xilinx/pynq/overlays/matmul/matmul128.bit')\n",
    "overlay?"
   ]
  },
  {
   "cell_type": "code",
   "execution_count": null,
   "metadata": {},
   "outputs": [],
   "source": [
    "matmul_ip = overlay.matmul128_0\n",
    "matmul_ip?"
   ]
  },
  {
   "cell_type": "code",
   "execution_count": null,
   "metadata": {},
   "outputs": [],
   "source": [
    "dma = overlay.axi_dma_0\n",
    "dma?"
   ]
  },
  {
   "cell_type": "markdown",
   "metadata": {},
   "source": [
    "## SoftWare Running Time"
   ]
  },
  {
   "cell_type": "code",
   "execution_count": 1,
   "metadata": {},
   "outputs": [
    {
     "name": "stdout",
     "output_type": "stream",
     "text": [
      "start\n",
      "SW execution time:  0.055856943130493164\n"
     ]
    }
   ],
   "source": [
    "import numpy as np\n",
    "import time\n",
    "a=np.ones((128,128),dtype=np.int32)\n",
    "b=np.ones((128,128),dtype=np.int32)\n",
    "start_time=time.time()\n",
    "print(\"start\")\n",
    "c=np.dot(a,b)\n",
    "stop_time=time.time()\n",
    "sw_exec_time = stop_time-start_time\n",
    "print('SW execution time: ',sw_exec_time)"
   ]
  },
  {
   "cell_type": "markdown",
   "metadata": {},
   "source": [
    "## HW Running Time"
   ]
  },
  {
   "cell_type": "code",
   "execution_count": null,
   "metadata": {},
   "outputs": [],
   "source": [
    "from pynq import Xlnk\n",
    "import pynq.lib.dma\n",
    "# Allocate buffers for the input and output signals\n",
    "xlnk = Xlnk()\n",
    "in_buffer = xlnk.cma_array(shape=(128*128*2,), dtype=np.int32)\n",
    "out_buffer = xlnk.cma_array(shape=(128*128,), dtype=np.int32)\n",
    "\n",
    "a=np.ones(128*128*2, dtype=np.int32)\n",
    "# Copy the samples to the in_buffer\n",
    "np.copyto(in_buffer,a)\n",
    "print(in_buffer)\n",
    "start_time = time.time()\n",
    "dma.sendchannel.transfer(in_buffer)\n",
    "dma.recvchannel.transfer(out_buffer)\n",
    "print(\"start\")\n",
    "dma.sendchannel.wait()\n",
    "dma.recvchannel.wait()\n",
    "stop_time = time.time()\n",
    "hw_exec_time = stop_time-start_time\n",
    "print('Hardware execution time: ',hw_exec_time)\n",
    "print('Hardware acceleration factor: ',sw_exec_time / hw_exec_time)\n",
    "\n",
    "# Free the buffers\n",
    "in_buffer.close()\n",
    "out_buffer.close()"
   ]
  }
 ],
 "metadata": {
  "kernelspec": {
   "display_name": "Python 3",
   "language": "python",
   "name": "python3"
  },
  "language_info": {
   "codemirror_mode": {
    "name": "ipython",
    "version": 3
   },
   "file_extension": ".py",
   "mimetype": "text/x-python",
   "name": "python",
   "nbconvert_exporter": "python",
   "pygments_lexer": "ipython3",
   "version": "3.6.5"
  }
 },
 "nbformat": 4,
 "nbformat_minor": 2
}
