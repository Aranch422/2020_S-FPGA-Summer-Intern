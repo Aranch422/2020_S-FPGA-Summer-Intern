{
 "cells": [
  {
   "cell_type": "markdown",
   "metadata": {},
   "source": [
    "## Driver"
   ]
  },
  {
   "cell_type": "code",
   "execution_count": 6,
   "metadata": {},
   "outputs": [],
   "source": [
    "\n",
    "from pynq import DefaultIP\n",
    "import numpy as np\n",
    "import time\n",
    "import struct\n",
    "\n",
    "class matmulDriver(DefaultIP):\n",
    "\n",
    "    def __init__(self, description):\n",
    "        super().__init__(description=description)\n",
    "        self.result = np.zeros((1024*1024),dtype=np.int32)\n",
    "        self.idx=0\n",
    "        \n",
    "    bindto = [\"xilinx.com:hls:matmul8x8:1.0\"]\n",
    "\n",
    "    def multiply(self, ra, rb, rc, rd, re,rf,rg,rh, ca,cb,cc,cd,ce,cf,cg,ch):\n",
    "        '''\n",
    "        ra, rb, rc, rd, re,rf,rg,rh are row of first matrix\n",
    "        ca,cb,cc,cd,ce,cf,cg,ch are column of second matrix\n",
    "        \n",
    "        use transposed second matrix\n",
    "        '''\n",
    "        self.write(0x1000,struct.pack(f\"{1024}i\", *ra))\n",
    "        self.write(0x2000,struct.pack(f\"{1024}i\", *rb))\n",
    "        self.write(0x3000,struct.pack(f\"{1024}i\", *rc))\n",
    "        self.write(0x4000,struct.pack(f\"{1024}i\", *rd))\n",
    "        self.write(0x5000,struct.pack(f\"{1024}i\", *re))\n",
    "        self.write(0x6000,struct.pack(f\"{1024}i\", *rf))\n",
    "        self.write(0x7000,struct.pack(f\"{1024}i\", *rg))\n",
    "        self.write(0x8000,struct.pack(f\"{1024}i\", *rh))\n",
    "        \n",
    "        self.write(0x9000,struct.pack(f\"{1024}i\", *ca))\n",
    "        self.write(0xa000,struct.pack(f\"{1024}i\", *cb))\n",
    "        self.write(0xb000,struct.pack(f\"{1024}i\", *cc))\n",
    "        self.write(0xc000,struct.pack(f\"{1024}i\", *cd))\n",
    "        self.write(0xd000,struct.pack(f\"{1024}i\", *ce))\n",
    "        self.write(0xe000,struct.pack(f\"{1024}i\", *cf))\n",
    "        self.write(0xf000,struct.pack(f\"{1024}i\", *cg))\n",
    "        self.write(0x10000,struct.pack(f\"{1024}i\", *ch))\n",
    "\n",
    "        #result\n",
    "        for i in range(64):\n",
    "            res = self.read(0x11000+4*i)\n",
    "            self.result[self.idx]=res\n",
    "            self.idx=self.idx+1\n"
   ]
  },
  {
   "cell_type": "markdown",
   "metadata": {},
   "source": [
    "## Load Overlay"
   ]
  },
  {
   "cell_type": "code",
   "execution_count": 7,
   "metadata": {},
   "outputs": [],
   "source": [
    "from pynq import Overlay\n",
    "from pynq import allocate\n",
    "overlay = Overlay('/home/xilinx/pynq/overlays/matmul/matmul1x8x1x8.bit')\n",
    "overlay?"
   ]
  },
  {
   "cell_type": "markdown",
   "metadata": {},
   "source": [
    "## SW Execute"
   ]
  },
  {
   "cell_type": "code",
   "execution_count": 3,
   "metadata": {},
   "outputs": [
    {
     "name": "stdout",
     "output_type": "stream",
     "text": [
      "start\n",
      "SW execution time:  0.008124589920043945\n"
     ]
    }
   ],
   "source": [
    "\n",
    "a=np.ones((1024),dtype=np.int32)\n",
    "b=np.ones((1024),dtype=np.int32)\n",
    "start_time=time.time()\n",
    "print(\"start\")\n",
    "c=np.dot(a,b)\n",
    "stop_time=time.time()\n",
    "sw_exec_time = stop_time-start_time\n",
    "print('SW execution time: ',sw_exec_time)"
   ]
  },
  {
   "cell_type": "markdown",
   "metadata": {},
   "source": [
    "### HW Test\n",
    "Do not Excute"
   ]
  },
  {
   "cell_type": "code",
   "execution_count": 6,
   "metadata": {
    "scrolled": true
   },
   "outputs": [
    {
     "name": "stdout",
     "output_type": "stream",
     "text": [
      "[[1024 1024 1024 ..., 1024 1024 1024]\n",
      " [1024 1024 1024 ..., 1024 1024 1024]\n",
      " [1024 1024 1024 ..., 1024 1024 1024]\n",
      " ..., \n",
      " [   0    0    0 ...,    0    0    0]\n",
      " [   0    0    0 ...,    0    0    0]\n",
      " [   0    0    0 ...,    0    0    0]]\n"
     ]
    }
   ],
   "source": [
    "\n",
    "matA = np.ones((1024*1024),dtype=np.int32)\n",
    "matB = np.ones((1024*1024),dtype=np.int32)\n",
    "i=0\n",
    "j=0\n",
    "overlay.matmul8x8_0.multiply(matA[i*1024:(i+1)*1024],matA[(i+1)*1024:(i+2)*1024],matA[(i+2)*1024:(i+3)*1024],matA[(i+3)*1024:(i+4)*1024],\n",
    "                             matA[(i+4)*1024:(i+5)*1024],matA[(i+5)*1024:(i+6)*1024],matA[(i+6)*1024:(i+7)*1024],matA[(i+7)*1024:(i+8)*1024],\n",
    "                             matB[j*1024:(j+1)*1024],matB[(j+1)*1024:(j+2)*1024],matB[(j+2)*1024:(j+3)*1024],matB[(j+3)*1024:(j+4)*1024],\n",
    "                             matB[(j+4)*1024:(j+5)*1024],matB[(j+5)*1024:(j+6)*1024],matB[(j+6)*1024:(j+7)*1024],matB[(j+7)*1024:(j+8)*1024],)\n",
    "print(overlay.matmul8x8_0.result.reshape(16384,64))"
   ]
  },
  {
   "cell_type": "markdown",
   "metadata": {},
   "source": [
    "## HW Execute"
   ]
  },
  {
   "cell_type": "code",
   "execution_count": 8,
   "metadata": {
    "scrolled": true
   },
   "outputs": [
    {
     "name": "stdout",
     "output_type": "stream",
     "text": [
      "start\n",
      "done\n",
      "HW execution time:  1249.9198815822601\n"
     ]
    }
   ],
   "source": [
    "matA = np.ones((1024*1024),dtype=np.int32)\n",
    "matB = np.ones((1024*1024),dtype=np.int32)\n",
    "print(\"start\")\n",
    "start_time= time.time()\n",
    "for i in range(128):\n",
    "    i=i*8\n",
    "    #print(i)\n",
    "    for j in range(128):\n",
    "        j=j*8\n",
    "        overlay.matmul8x8_0.multiply(matA[i*1024:(i+1)*1024],matA[(i+1)*1024:(i+2)*1024],matA[(i+2)*1024:(i+3)*1024],matA[(i+3)*1024:(i+4)*1024],\n",
    "                             matA[(i+4)*1024:(i+5)*1024],matA[(i+5)*1024:(i+6)*1024],matA[(i+6)*1024:(i+7)*1024],matA[(i+7)*1024:(i+8)*1024],\n",
    "                             matB[j*1024:(j+1)*1024],matB[(j+1)*1024:(j+2)*1024],matB[(j+2)*1024:(j+3)*1024],matB[(j+3)*1024:(j+4)*1024],\n",
    "                             matB[(j+4)*1024:(j+5)*1024],matB[(j+5)*1024:(j+6)*1024],matB[(j+6)*1024:(j+7)*1024],matB[(j+7)*1024:(j+8)*1024],)\n",
    "stop_time=time.time()\n",
    "HW_time =stop_time-start_time\n",
    "print(\"done\")\n",
    "print('HW execution time: ',HW_time)"
   ]
  },
  {
   "cell_type": "code",
   "execution_count": 2,
   "metadata": {},
   "outputs": [
    {
     "ename": "NameError",
     "evalue": "name 'overlay' is not defined",
     "output_type": "error",
     "traceback": [
      "\u001b[0;31m---------------------------------------------------------------------------\u001b[0m",
      "\u001b[0;31mNameError\u001b[0m                                 Traceback (most recent call last)",
      "\u001b[0;32m<ipython-input-2-42a902daa288>\u001b[0m in \u001b[0;36m<module>\u001b[0;34m()\u001b[0m\n\u001b[0;32m----> 1\u001b[0;31m \u001b[0mprint\u001b[0m\u001b[0;34m(\u001b[0m\u001b[0moverlay\u001b[0m\u001b[0;34m.\u001b[0m\u001b[0mmatmul8x8_0\u001b[0m\u001b[0;34m.\u001b[0m\u001b[0mresult\u001b[0m\u001b[0;34m)\u001b[0m\u001b[0;34m\u001b[0m\u001b[0m\n\u001b[0m",
      "\u001b[0;31mNameError\u001b[0m: name 'overlay' is not defined"
     ]
    }
   ],
   "source": [
    "print(overlay.matmul8x8_0.result)"
   ]
  },
  {
   "cell_type": "code",
   "execution_count": null,
   "metadata": {},
   "outputs": [],
   "source": []
  },
  {
   "cell_type": "code",
   "execution_count": null,
   "metadata": {},
   "outputs": [],
   "source": []
  }
 ],
 "metadata": {
  "kernelspec": {
   "display_name": "Python 3",
   "language": "python",
   "name": "python3"
  },
  "language_info": {
   "codemirror_mode": {
    "name": "ipython",
    "version": 3
   },
   "file_extension": ".py",
   "mimetype": "text/x-python",
   "name": "python",
   "nbconvert_exporter": "python",
   "pygments_lexer": "ipython3",
   "version": "3.6.5"
  }
 },
 "nbformat": 4,
 "nbformat_minor": 2
}
