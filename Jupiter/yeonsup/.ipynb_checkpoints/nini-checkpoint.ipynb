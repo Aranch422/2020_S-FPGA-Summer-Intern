{
 "cells": [
  {
   "cell_type": "code",
   "execution_count": 2,
   "metadata": {},
   "outputs": [
    {
     "data": {
      "application/javascript": [
       "\n",
       "require(['notebook/js/codecell'], function(codecell) {\n",
       "  codecell.CodeCell.options_default.highlight_modes[\n",
       "      'magic_text/x-csrc'] = {'reg':[/^%%microblaze/]};\n",
       "  Jupyter.notebook.events.one('kernel_ready.Kernel', function(){\n",
       "      Jupyter.notebook.get_cells().map(function(cell){\n",
       "          if (cell.cell_type == 'code'){ cell.auto_highlight(); } }) ;\n",
       "  });\n",
       "});\n"
      ]
     },
     "metadata": {},
     "output_type": "display_data"
    }
   ],
   "source": [
    "from pynq import Overlay\n",
    "import pickle, struct, time, math\n",
    "import numpy as np\n",
    "import matplotlib.pyplot as plt"
   ]
  },
  {
   "cell_type": "code",
   "execution_count": 3,
   "metadata": {},
   "outputs": [],
   "source": [
    "with open(\"weight\", \"rb\") as file:\n",
    "    weightList = pickle.load(file, encoding='bytes')\n",
    "\n",
    "with open(\"test_images\", \"rb\") as file:\n",
    "    test_images = pickle.load(file, encoding='bytes')\n",
    "\n",
    "with open(\"test_labels\", \"rb\") as file:\n",
    "    test_labels = pickle.load(file, encoding='bytes')"
   ]
  },
  {
   "cell_type": "code",
   "execution_count": 4,
   "metadata": {},
   "outputs": [
    {
     "data": {
      "text/plain": [
       "'\\nxx = np.array(weightList)\\nprint(xx.shape)\\nprint()\\nxx\\n'"
      ]
     },
     "execution_count": 4,
     "metadata": {},
     "output_type": "execute_result"
    }
   ],
   "source": [
    "'''\n",
    "xx = np.array(weightList)\n",
    "print(xx.shape)\n",
    "print()\n",
    "xx\n",
    "'''"
   ]
  },
  {
   "cell_type": "code",
   "execution_count": 5,
   "metadata": {},
   "outputs": [],
   "source": [
    "poolAddress = dict()\n",
    "poolAddress[\"ifMap\"] = 0x2000\n",
    "poolAddress[\"ofMap\"] = 0x4000\n",
    "\n",
    "convAddress = dict()\n",
    "convAddress[\"ifMap\"] = 0x2000\n",
    "convAddress[\"ofMap\"] = 0x8000\n",
    "convAddress[\"_filter\"] = 0x40000\n",
    "convAddress[\"bias\"] = 0x80000\n",
    "\n",
    "fullAddress = dict()\n",
    "fullAddress[\"ifMap\"] = 0x200\n",
    "fullAddress[\"ofMap\"] = 0x400\n",
    "fullAddress[\"weight\"] = 0x10000\n",
    "fullAddress[\"bias\"] = 0x20000"
   ]
  },
  {
   "cell_type": "code",
   "execution_count": 6,
   "metadata": {},
   "outputs": [],
   "source": [
    "class CNN:\n",
    "    def __init__(self):\n",
    "        self.overlay = None\n",
    "        self.overlay = Overlay(\"/home/xilinx/jupyter_notebooks/yeonsup/lele.bit\")\n",
    "        t2 = t1 = time.time()       \n",
    "        while 1:\n",
    "            t2 = time.time()\n",
    "            if t2 - t1 > 20:\n",
    "                print(\"Time out(20s).\")\n",
    "                break\n",
    "            try:\n",
    "                self.conv_ip = self.overlay.conv_0\n",
    "                self.full_ip = self.overlay.full_0\n",
    "                self.pool_ip = self.overlay.pool_0\n",
    "                break\n",
    "            except:\n",
    "                continue\n",
    "    \n",
    "    def pool(self, ifMap, U, C, H, R):\n",
    "        pass\n",
    "\n",
    "    def conv(self, ifMap, _filter, bias, U, C, H, R, M):\n",
    "        pass\n",
    "\n",
    "    def full(self, ifMap, weight, bias, C, M):\n",
    "        pass\n",
    "\n",
    "    def poolWrite(self, ifMap, C, H, U, R):\n",
    "        pass\n",
    "\n",
    "    def poolRead(self, C, E):\n",
    "        pass\n",
    "\n",
    "    def convWrite(self, ifMap, _filter, bias, H, M, C, R, U):\n",
    "        pass\n",
    "\n",
    "    def convRead(self, M, E):\n",
    "        pass"
   ]
  },
  {
   "cell_type": "code",
   "execution_count": 7,
   "metadata": {},
   "outputs": [],
   "source": [
    "def pool(self, ifMap, U, C, H, R):\n",
    "    E = int((H - R) / U) + 1 \n",
    "    self.poolWrite(ifMap, C, H, U, R)\n",
    "    return self.poolRead(C, E)\n",
    "\n",
    "def conv(self, ifMap, _filter, bias, U, C, H, R, M):\n",
    "    E = int((H - R) / U) + 1\n",
    "    self.convWrite(ifMap, _filter, bias, H, M, C, R, U)\n",
    "    return self.convRead(M, E)\n",
    "\n",
    "def full(self, ifMap, weight, bias, C, M):\n",
    "    self.fullWrite(ifMap, weight, bias, C, M)\n",
    "    return self.fullRead(M)\n",
    "\n",
    "CNN.pool = pool\n",
    "CNN.conv = conv\n",
    "CNN.full = full"
   ]
  },
  {
   "cell_type": "code",
   "execution_count": 8,
   "metadata": {},
   "outputs": [],
   "source": [
    "def poolWrite(self, ifMap, C, H, U, R):\n",
    "    self.pool_ip.register_map.C = C\n",
    "    self.pool_ip.register_map.H = H\n",
    "    self.pool_ip.register_map.U = U\n",
    "    self.pool_ip.register_map.R = R\n",
    "\n",
    "    ifMap = np.array(ifMap, dtype=np.float32).flatten()\n",
    "    self.pool_ip.write(poolAddress[\"ifMap\"], struct.pack(f\"{ifMap.size}f\", *ifMap))\n",
    "\n",
    "def poolRead(self, C, E):\n",
    "    ofMap = [[[0 for _ in range(E)] for _ in range(E)] for _ in range(C)]\n",
    "    for u in range(C):\n",
    "        for x in range(E):\n",
    "            for y in range(E):\n",
    "                readedFloat = self.pool_ip.read(poolAddress[\"ofMap\"] + ((u * E + x) * E + y) * 4)\n",
    "                readedByte = readedFloat.to_bytes(4, byteorder=\"little\")\n",
    "                ofMap[u][x][y] = struct.unpack(\"f\", readedByte)[0]\n",
    "    return ofMap\n",
    "\n",
    "CNN.poolWrite = poolWrite\n",
    "CNN.poolRead = poolRead"
   ]
  },
  {
   "cell_type": "code",
   "execution_count": 9,
   "metadata": {},
   "outputs": [],
   "source": [
    "def convWrite(self, ifMap, _filter, bias, H, M, C, R, U):\n",
    "    self.conv_ip.register_map.H = H\n",
    "    self.conv_ip.register_map.M = M\n",
    "    self.conv_ip.register_map.C = C\n",
    "    self.conv_ip.register_map.R = R\n",
    "    self.conv_ip.register_map.U = U\n",
    "\n",
    "    ifMap = np.array(ifMap, dtype=np.float32).flatten()\n",
    "    self.conv_ip.write(convAddress[\"ifMap\"], struct.pack(f\"{ifMap.size}f\", *ifMap))\n",
    "\n",
    "    _filter = np.array(_filter, dtype=np.float32).flatten()\n",
    "    self.conv_ip.write(convAddress[\"_filter\"], struct.pack(f\"{_filter.size}f\", *_filter))\n",
    "\n",
    "    bias = np.array(bias, dtype=np.float32).flatten()\n",
    "    self.conv_ip.write(convAddress[\"bias\"], struct.pack(f\"{bias.size}f\", *bias))\n",
    "\n",
    "def convRead(self, M, E):\n",
    "    ofMap = [[[0 for _ in range(E)] for _ in range(E)] for _ in range(M)]\n",
    "    for u in range(M):\n",
    "        for x in range(E):\n",
    "            for y in range(E):\n",
    "                readedFloat = self.conv_ip.read(convAddress[\"ofMap\"] + ((u * E + x) * E + y) * 4)\n",
    "                readedByte = readedFloat.to_bytes(4, byteorder=\"little\")\n",
    "                ofMap[u][x][y] = 1.7159 * math.tanh(2 / 3 * struct.unpack('f', readedByte)[0])\n",
    "    return ofMap\n",
    "\n",
    "CNN.convWrite = convWrite\n",
    "CNN.convRead = convRead"
   ]
  },
  {
   "cell_type": "code",
   "execution_count": 10,
   "metadata": {},
   "outputs": [],
   "source": [
    "def fullWrite(self, ifMap, weight, bias, C, M):\n",
    "    self.full_ip.register_map.C = C\n",
    "    self.full_ip.register_map.M = M\n",
    "\n",
    "    ifMap = np.array(ifMap, dtype=np.float32).flatten()\n",
    "    self.full_ip.write(fullAddress['ifMap'], struct.pack('%sf' % ifMap.size, *ifMap))\n",
    "\n",
    "    weight = np.array(weight, dtype=np.float32).flatten()\n",
    "    self.full_ip.write(fullAddress['weight'], struct.pack('%sf' % weight.size, *weight))\n",
    "\n",
    "    bias = np.array(bias, dtype=np.float32).flatten()\n",
    "    self.full_ip.write(fullAddress['bias'], struct.pack('%sf' % bias.size, *bias))\n",
    "\n",
    "def fullRead(self, M):\n",
    "    ofMap = [0 for _ in range(M)]\n",
    "    for j in range(M):\n",
    "        readedFloat = self.full_ip.read(fullAddress['ofMap'] + (j* 4))\n",
    "        readedByte = readedFloat.to_bytes(4, byteorder=\"little\")\n",
    "        ofMap[j] = struct.unpack('f', readedByte)[0]\n",
    "    return ofMap\n",
    "\n",
    "CNN.fullWrite = fullWrite\n",
    "CNN.fullRead = fullRead"
   ]
  },
  {
   "cell_type": "code",
   "execution_count": 11,
   "metadata": {},
   "outputs": [],
   "source": [
    "model = CNN()"
   ]
  },
  {
   "cell_type": "code",
   "execution_count": 12,
   "metadata": {},
   "outputs": [
    {
     "name": "stdout",
     "output_type": "stream",
     "text": [
      "<pynq.overlay.Overlay object at 0xaf33a7b0>\n"
     ]
    }
   ],
   "source": [
    "print(model.overlay)"
   ]
  },
  {
   "cell_type": "code",
   "execution_count": 21,
   "metadata": {},
   "outputs": [
    {
     "name": "stdout",
     "output_type": "stream",
     "text": [
      "예측: 4, 정답: 7\n",
      "예측: 8, 정답: 2\n",
      "예측: 1, 정답: 1\n",
      "예측: 7, 정답: 0\n",
      "예측: 7, 정답: 4\n",
      "예측: 1, 정답: 1\n",
      "예측: 4, 정답: 4\n",
      "예측: 0, 정답: 9\n",
      "예측: 1, 정답: 5\n",
      "예측: 2, 정답: 9\n",
      "예측: 2, 정답: 0\n",
      "예측: 7, 정답: 6\n",
      "예측: 1, 정답: 9\n",
      "예측: 9, 정답: 0\n",
      "예측: 8, 정답: 1\n",
      "예측: 3, 정답: 5\n",
      "예측: 7, 정답: 9\n",
      "예측: 2, 정답: 7\n",
      "예측: 9, 정답: 3\n",
      "예측: 4, 정답: 4\n",
      "예측: 4, 정답: 9\n",
      "예측: 9, 정답: 6\n",
      "예측: 7, 정답: 6\n",
      "예측: 5, 정답: 5\n",
      "예측: 9, 정답: 4\n",
      "예측: 2, 정답: 0\n",
      "예측: 4, 정답: 7\n",
      "예측: 1, 정답: 4\n",
      "예측: 4, 정답: 0\n",
      "예측: 3, 정답: 1\n",
      "예측: 9, 정답: 3\n",
      "예측: 8, 정답: 1\n",
      "예측: 9, 정답: 3\n",
      "예측: 3, 정답: 4\n",
      "예측: 7, 정답: 7\n",
      "예측: 5, 정답: 2\n",
      "예측: 4, 정답: 7\n",
      "예측: 3, 정답: 1\n",
      "예측: 3, 정답: 2\n",
      "예측: 7, 정답: 1\n",
      "DONE\n",
      "6\n"
     ]
    }
   ],
   "source": [
    "#idx = int(input())\n",
    "score = 0\n",
    "for idx in range(40):\n",
    "    ifMap = test_images[idx].T.reshape(32, 32).tolist()\n",
    "\n",
    "    C1 = model.conv(ifMap, np.array(weightList[0]).T.tolist(), weightList[1], 1, 1, 32, 5, 6)\n",
    "    S2 = model.pool(C1, 2, 6, 28, 2)\n",
    "    C3 = model.conv(S2, np.array(weightList[2]).T.tolist(), weightList[3], 1, 6, 14, 5, 16)\n",
    "    S4 = model.pool(C3, 2, 16, 10, 2)\n",
    "    C5 = model.conv(S4, np.array(weightList[4]).T.tolist(), weightList[5], 1, 16, 5, 5, 120)\n",
    "    F6 = model.full(np.array(C5).reshape(120), weightList[6], weightList[7], 120, 84)\n",
    "    ofMap = model.full(F6, weightList[8], weightList[9], 84, 10)\n",
    "\n",
    "    print(f\"예측: {np.argmax(ofMap)}, 정답: {test_labels[idx]}\")\n",
    "    if np.argmax(ofMap) == test_labels[idx]:\n",
    "        score += 1\n",
    "    #pixels = test_images[idx].reshape(32, 32)\n",
    "    #plt.imshow(pixels, cmap='gray')\n",
    "    #plt.show()\n",
    "\n",
    "print(\"DONE\")\n",
    "print(score)"
   ]
  },
  {
   "cell_type": "code",
   "execution_count": null,
   "metadata": {},
   "outputs": [],
   "source": []
  }
 ],
 "metadata": {
  "kernelspec": {
   "display_name": "Python 3",
   "language": "python",
   "name": "python3"
  },
  "language_info": {
   "codemirror_mode": {
    "name": "ipython",
    "version": 3
   },
   "file_extension": ".py",
   "mimetype": "text/x-python",
   "name": "python",
   "nbconvert_exporter": "python",
   "pygments_lexer": "ipython3",
   "version": "3.6.5"
  }
 },
 "nbformat": 4,
 "nbformat_minor": 2
}
