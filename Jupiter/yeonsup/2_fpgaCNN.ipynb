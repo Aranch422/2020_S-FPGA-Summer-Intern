{
 "cells": [
  {
   "cell_type": "markdown",
   "metadata": {},
   "source": [
    "# 필요한 모듈 import"
   ]
  },
  {
   "cell_type": "code",
   "execution_count": 1,
   "metadata": {},
   "outputs": [
    {
     "data": {
      "application/javascript": [
       "\n",
       "require(['notebook/js/codecell'], function(codecell) {\n",
       "  codecell.CodeCell.options_default.highlight_modes[\n",
       "      'magic_text/x-csrc'] = {'reg':[/^%%microblaze/]};\n",
       "  Jupyter.notebook.events.one('kernel_ready.Kernel', function(){\n",
       "      Jupyter.notebook.get_cells().map(function(cell){\n",
       "          if (cell.cell_type == 'code'){ cell.auto_highlight(); } }) ;\n",
       "  });\n",
       "});\n"
      ]
     },
     "metadata": {},
     "output_type": "display_data"
    }
   ],
   "source": [
    "from pynq import Overlay\n",
    "import pickle, struct, time, math\n",
    "import numpy as np\n",
    "import matplotlib.pyplot as plt"
   ]
  },
  {
   "cell_type": "markdown",
   "metadata": {},
   "source": [
    "# 데이터 불러오기\n",
    "```pickle```모듈을 이용하여 변수 ```test_images```, ```test_images```, ```weightList```로 불러옵니다."
   ]
  },
  {
   "cell_type": "code",
   "execution_count": 2,
   "metadata": {},
   "outputs": [
    {
     "ename": "UnicodeDecodeError",
     "evalue": "'ascii' codec can't decode byte 0x8a in position 0: ordinal not in range(128)",
     "output_type": "error",
     "traceback": [
      "\u001b[0;31m---------------------------------------------------------------------------\u001b[0m",
      "\u001b[0;31mUnicodeDecodeError\u001b[0m                        Traceback (most recent call last)",
      "\u001b[0;32m<ipython-input-2-b54ad441b371>\u001b[0m in \u001b[0;36m<module>\u001b[0;34m()\u001b[0m\n\u001b[1;32m      1\u001b[0m \u001b[0;32mwith\u001b[0m \u001b[0mopen\u001b[0m\u001b[0;34m(\u001b[0m\u001b[0;34m\"weight\"\u001b[0m\u001b[0;34m,\u001b[0m \u001b[0;34m\"rb\"\u001b[0m\u001b[0;34m)\u001b[0m \u001b[0;32mas\u001b[0m \u001b[0mfile\u001b[0m\u001b[0;34m:\u001b[0m\u001b[0;34m\u001b[0m\u001b[0m\n\u001b[0;32m----> 2\u001b[0;31m     \u001b[0mweightList\u001b[0m \u001b[0;34m=\u001b[0m \u001b[0mpickle\u001b[0m\u001b[0;34m.\u001b[0m\u001b[0mload\u001b[0m\u001b[0;34m(\u001b[0m\u001b[0mfile\u001b[0m\u001b[0;34m)\u001b[0m\u001b[0;34m\u001b[0m\u001b[0m\n\u001b[0m\u001b[1;32m      3\u001b[0m \u001b[0;34m\u001b[0m\u001b[0m\n\u001b[1;32m      4\u001b[0m \u001b[0;32mwith\u001b[0m \u001b[0mopen\u001b[0m\u001b[0;34m(\u001b[0m\u001b[0;34m\"test_images\"\u001b[0m\u001b[0;34m,\u001b[0m \u001b[0;34m\"rb\"\u001b[0m\u001b[0;34m)\u001b[0m \u001b[0;32mas\u001b[0m \u001b[0mfile\u001b[0m\u001b[0;34m:\u001b[0m\u001b[0;34m\u001b[0m\u001b[0m\n\u001b[1;32m      5\u001b[0m     \u001b[0mtest_images\u001b[0m \u001b[0;34m=\u001b[0m \u001b[0mpickle\u001b[0m\u001b[0;34m.\u001b[0m\u001b[0mload\u001b[0m\u001b[0;34m(\u001b[0m\u001b[0mfile\u001b[0m\u001b[0;34m)\u001b[0m\u001b[0;34m\u001b[0m\u001b[0m\n",
      "\u001b[0;31mUnicodeDecodeError\u001b[0m: 'ascii' codec can't decode byte 0x8a in position 0: ordinal not in range(128)"
     ]
    }
   ],
   "source": [
    "with open(\"weight\", \"rb\") as file:\n",
    "    weightList = pickle.load(file)\n",
    "\n",
    "with open(\"test_images\", \"rb\") as file:\n",
    "    test_images = pickle.load(file)\n",
    "\n",
    "with open(\"test_labels\", \"rb\") as file:\n",
    "    test_labels = pickle.load(file)"
   ]
  },
  {
   "cell_type": "markdown",
   "metadata": {},
   "source": [
    "# 주소 dictionary\n",
    "x[프로젝트 이름]_hw.h 파일에서 주소를 확인해서 dictionary로 정리합니다."
   ]
  },
  {
   "cell_type": "code",
   "execution_count": null,
   "metadata": {},
   "outputs": [],
   "source": [
    "poolAddress = dict()\n",
    "poolAddress[\"ifMap\"] = 0x8000\n",
    "poolAddress[\"ofMap\"] = 0x10000\n",
    "\n",
    "convAddress = dict()\n",
    "convAddress[\"ifMap\"] = 0x2000\n",
    "convAddress[\"ofMap\"] = 0x8000\n",
    "convAddress[\"_filter\"] = 0x40000\n",
    "convAddress[\"bias\"] = 0x80000\n",
    "\n",
    "fullAddress = dict()\n",
    "fullAddress[\"ifMap\"] = 0x200\n",
    "fullAddress[\"ofMap\"] = 0x400\n",
    "fullAddress[\"weight\"] = 0x10000\n",
    "fullAddress[\"bias\"] = 0x20000"
   ]
  },
  {
   "cell_type": "markdown",
   "metadata": {},
   "source": [
    "# Convolution Neural Network 클래스\n",
    "생성자에서 bitstream을 읽고 정상적으로 IP core가 호출되도록 최대 20초까지 기다립니다."
   ]
  },
  {
   "cell_type": "code",
   "execution_count": null,
   "metadata": {},
   "outputs": [],
   "source": [
    "class CNN:\n",
    "    def __init__(self):\n",
    "        self.overlay = None\n",
    "        self.overlay = Overlay(\"/home/xilinx/pynq/overlays/cnn/cnn.bit\")\n",
    "        t2 = t1 = time.time()       \n",
    "        while 1:\n",
    "            t2 = time.time()\n",
    "            if t2 - t1 > 20:\n",
    "                print(\"Time out(20s).\")\n",
    "                break\n",
    "            try:\n",
    "                self.conv_ip = self.overlay.conv_0\n",
    "                self.full_ip = self.overlay.full_0\n",
    "                self.pool_ip = self.overlay.pool_0\n",
    "                break\n",
    "            except:\n",
    "                continue\n",
    "    \n",
    "    def pool(self, ifMap, U, C, H, R):\n",
    "        pass\n",
    "\n",
    "    def conv(self, ifMap, _filter, bias, U, C, H, R, M):\n",
    "        pass\n",
    "\n",
    "    def full(self, ifMap, weight, bias, C, M):\n",
    "        pass\n",
    "\n",
    "    def poolWrite(self, ifMap, C, H, U, R):\n",
    "        pass\n",
    "\n",
    "    def poolRead(self, C, E):\n",
    "        pass\n",
    "\n",
    "    def convWrite(self, ifMap, _filter, bias, H, M, C, R, U):\n",
    "        pass\n",
    "\n",
    "    def convRead(self, M, E):\n",
    "        pass"
   ]
  },
  {
   "cell_type": "markdown",
   "metadata": {},
   "source": [
    "output featuer map 크기인 ```E```를 구하고 IP core에 write하고 read한 값을 반환합니다."
   ]
  },
  {
   "cell_type": "code",
   "execution_count": null,
   "metadata": {},
   "outputs": [],
   "source": [
    "def pool(self, ifMap, U, C, H, R):\n",
    "    E = int((H - R) / U) + 1 \n",
    "    self.poolWrite(ifMap, C, H, U, R)\n",
    "    return self.poolRead(C, E)\n",
    "\n",
    "def conv(self, ifMap, _filter, bias, U, C, H, R, M):\n",
    "    E = int((H - R) / U) + 1\n",
    "    self.convWrite(ifMap, _filter, bias, H, M, C, R, U)\n",
    "    return self.convRead(M, E)\n",
    "\n",
    "def full(self, ifMap, weight, bias, C, M):\n",
    "    self.fullWrite(ifMap, weight, bias, C, M)\n",
    "    return self.fullRead(M)\n",
    "\n",
    "CNN.pool = pool\n",
    "CNN.conv = conv\n",
    "CNN.full = full"
   ]
  },
  {
   "cell_type": "markdown",
   "metadata": {},
   "source": [
    "배열(list)이 아닌 변수는 ```register_map```을 통해 할당합니다. 배열은 ```struct```모듈을 이용해 배열 통째로 IEEE 754 형식에 맞추어 float을 byte로 변환한 후 해당하는 주소에 write합니다.\n",
    "\n",
    "shape가 $\\left(X_{1}, X_{2}, \\cdots, X_{n} \\right)$인 $n$차원 배열에 대하여\n",
    "```multiDimArray```$\\left[x_{1}, x_{2}, \\cdots, x_{n} \\right]$은 ```singleDimArray```$\\left[ \\left( \\left( \\left( x_{n}X_{n-1} + x_{n-1}\\right) \\times \\cdots \\right) \\times X_{2} + x_{2} \\right)\\times X_{1}+x_{1} \\right]$로 변환할 수 있고 나머지 정리에 의해 역도 성립합니다. 마찬가지로 ```struct```모듈을 이용해 해당하는 주소의 값을 read한 후 IEEE 754 형식에 맞추어 byte에서 float으로 변환합니다."
   ]
  },
  {
   "cell_type": "code",
   "execution_count": null,
   "metadata": {},
   "outputs": [],
   "source": [
    "def poolWrite(self, ifMap, C, H, U, R):\n",
    "    self.pool_ip.register_map.C = C\n",
    "    self.pool_ip.register_map.H = H\n",
    "    self.pool_ip.register_map.U = U\n",
    "    self.pool_ip.register_map.R = R\n",
    "\n",
    "    ifMap = np.array(ifMap, dtype=np.float32).flatten()\n",
    "    self.pool_ip.write(poolAddress[\"ifMap\"], struct.pack(f\"{ifMap.size}f\", *ifMap))\n",
    "\n",
    "def poolRead(self, C, E):\n",
    "    ofMap = [[[0 for _ in range(E)] for _ in range(E)] for _ in range(C)]\n",
    "    for u in range(C):\n",
    "        for x in range(E):\n",
    "            for y in range(E):\n",
    "                readedFloat = self.pool_ip.read(poolAddress[\"ofMap\"] + ((u * E + x) * E + y) * 4)\n",
    "                readedByte = readedFloat.to_bytes(4, byteorder=\"little\")\n",
    "                ofMap[u][x][y] = struct.unpack(\"\" readedByte)[0]\n",
    "    return ofMap\n",
    "\n",
    "CNN.poolWrite = poolWrite\n",
    "CNN.poolRead = poolRead"
   ]
  },
  {
   "cell_type": "markdown",
   "metadata": {},
   "source": [
    "Activation은 LeNet-5 논문에서 소개된대로 $f \\left( a \\right) = A \\textrm{tanh} \\left(Sa \\right) $를 사용합니다. ($A \\simeq 1.7159$, $S = \\frac{2}{3} $)"
   ]
  },
  {
   "cell_type": "code",
   "execution_count": null,
   "metadata": {},
   "outputs": [],
   "source": [
    "def convWrite(self, ifMap, _filter, bias, H, M, C, R, U):\n",
    "    self.conv_ip.register_map.H = H\n",
    "    self.conv_ip.register_map.M = M\n",
    "    self.conv_ip.register_map.C = C\n",
    "    self.conv_ip.register_map.R = R\n",
    "    self.conv_ip.register_map.U = U\n",
    "\n",
    "    ifMap = np.array(ifMap, dtype=np.float32).flatten()\n",
    "    self.conv_ip.write(convAddress[\"ifMap\"], struct.pack(f\"{ifMap.size}f\", *ifMap))\n",
    "\n",
    "    _filter = np.array(_filter, dtype=np.float32).flatten()\n",
    "    self.conv_ip.write(convAddress[\"_filter\"], struct.pack(f\"{_filter.size}f\", *_filter))\n",
    "\n",
    "    bias = np.array(bias, dtype=np.float32).flatten()\n",
    "    self.conv_ip.write(convAddress[\"bias\"], struct.pack(f\"{bias.size}f\", *bias))\n",
    "\n",
    "def convRead(self, M, E):\n",
    "    ofMap = [[[0 for _ in range(E)] for _ in range(E)] for _ in range(M)]\n",
    "    for u in range(M):\n",
    "        for x in range(E):\n",
    "            for y in range(E):\n",
    "                readedFloat = self.conv_ip.read(convAddress[\"ofMap\"] + ((u * E + x) * E + y) * 4)\n",
    "                readedByte = readedFloat.to_bytes(4, byteorder=\"little\")\n",
    "                ofMap[u][x][y] = 1.7159 * math.tanh(2 / 3 * struct.unpack('f', readedByte)[0])\n",
    "    return ofMap\n",
    "\n",
    "CNN.convWrite = convWrite\n",
    "CNN.convRead = convRead"
   ]
  },
  {
   "cell_type": "code",
   "execution_count": null,
   "metadata": {},
   "outputs": [],
   "source": [
    "def fullWrite(self, ifMap, weight, bias, C, M):\n",
    "    self.full_ip.register_map.C = C\n",
    "    self.full_ip.register_map.M = M\n",
    "\n",
    "    ifMap = np.array(ifMap, dtype=np.float32).flatten()\n",
    "    self.full_ip.write(fullAddress['ifMap'], struct.pack('%sf' % ifMap.size, *ifMap))\n",
    "\n",
    "    weight = np.array(weight, dtype=np.float32).flatten()\n",
    "    self.full_ip.write(fullAddress['weight'], struct.pack('%sf' % weight.size, *weight))\n",
    "\n",
    "    bias = np.array(bias, dtype=np.float32).flatten()\n",
    "    self.full_ip.write(fullAddress['bias'], struct.pack('%sf' % bias.size, *bias))\n",
    "\n",
    "def fullRead(self, M):\n",
    "    ofMap = [0 for _ in range(M)]\n",
    "    for j in range(M):\n",
    "        readedFloat = self.full_ip.read(fullAddress['ofMap'] + (j* 4))\n",
    "        readedByte = readedFloat.to_bytes(4, byteorder=\"little\")\n",
    "        ofMap[j] = struct.unpack('f', readedByte)[0]\n",
    "    return ofMap\n",
    "\n",
    "CNN.fullWrite = fullWrite\n",
    "CNN.fullRead = fullRead"
   ]
  },
  {
   "cell_type": "code",
   "execution_count": null,
   "metadata": {},
   "outputs": [],
   "source": [
    "model = CNN()"
   ]
  },
  {
   "cell_type": "markdown",
   "metadata": {},
   "source": [
    "# 값 확인\n",
    "사용자로부터 0 이상의 정수 ```idx```를 입력받습니다.\n",
    "\n",
    "keras에서는 shape가 $\\left(32, 32, 1\\right)$이었던 반면 여기서는 shape가 $\\left(1, 32, 32\\right)$이므로 전치(transpose) 과정을 거쳐야 합니다. 따라서 ```ifMap```과 convolution 과정에서 사용하는 weightList는 전치한 값을 사용합니다. 각 레이어의 output feature map은 ```C1```, ```S2``` 등에 저장됩니다."
   ]
  },
  {
   "cell_type": "code",
   "execution_count": null,
   "metadata": {},
   "outputs": [],
   "source": [
    "idx = int(input())\n",
    "ifMap = test_images[idx].T.reshape(32, 32).tolist()\n",
    "\n",
    "C1 = model.conv(ifMap, np.array(weightList[0]).T.tolist(), weightList[1], 1, 1, 32, 5, 6)\n",
    "S2 = model.pool(C1, 2, 6, 28, 2)\n",
    "C3 = model.conv(S2, np.array(weightList[2]).T.tolist(), weightList[3], 1, 6, 14, 5, 16)\n",
    "S4 = model.pool(C3, 2, 16, 10, 2)\n",
    "C5 = model.conv(S4, np.array(weightList[4]).T.tolist(), weightList[5], 1, 16, 5, 5, 120)\n",
    "F6 = model.full(np.array(C5).reshape(120), weightList[6], weightList[7], 120, 84)\n",
    "ofMap = model.full(F6, weightList[8], weightList[9], 84, 10)\n",
    "\n",
    "print(f\"예측: {np.argmax(ofMap)}, 정답: {test_labels[idx]}\")\n",
    "pixels = test_images[idx].reshape(32, 32)\n",
    "plt.imshow(pixels, cmap='gray')\n",
    "plt.show()"
   ]
  }
 ],
 "metadata": {
  "kernelspec": {
   "display_name": "Python 3",
   "language": "python",
   "name": "python3"
  },
  "language_info": {
   "codemirror_mode": {
    "name": "ipython",
    "version": 3
   },
   "file_extension": ".py",
   "mimetype": "text/x-python",
   "name": "python",
   "nbconvert_exporter": "python",
   "pygments_lexer": "ipython3",
   "version": "3.6.5"
  }
 },
 "nbformat": 4,
 "nbformat_minor": 2
}
