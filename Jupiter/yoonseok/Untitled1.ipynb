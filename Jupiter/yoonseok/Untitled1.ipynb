{
 "cells": [
  {
   "cell_type": "code",
   "execution_count": 1,
   "metadata": {},
   "outputs": [
    {
     "data": {
      "application/javascript": [
       "\n",
       "require(['notebook/js/codecell'], function(codecell) {\n",
       "  codecell.CodeCell.options_default.highlight_modes[\n",
       "      'magic_text/x-csrc'] = {'reg':[/^%%microblaze/]};\n",
       "  Jupyter.notebook.events.one('kernel_ready.Kernel', function(){\n",
       "      Jupyter.notebook.get_cells().map(function(cell){\n",
       "          if (cell.cell_type == 'code'){ cell.auto_highlight(); } }) ;\n",
       "  });\n",
       "});\n"
      ]
     },
     "metadata": {},
     "output_type": "display_data"
    }
   ],
   "source": [
    "from pynq import Overlay\n",
    "import pickle, struct, time, math\n",
    "import numpy as np\n",
    "import matplotlib.pyplot as plt"
   ]
  },
  {
   "cell_type": "code",
   "execution_count": 3,
   "metadata": {},
   "outputs": [],
   "source": [
    "with open(\"weight\", \"rb\") as file:\n",
    "    weightList = pickle.load(file, encoding='bytes')\n",
    "\n",
    "with open(\"test_images\", \"rb\") as file:\n",
    "    test_images = pickle.load(file, encoding='bytes')\n",
    "\n",
    "with open(\"test_labels\", \"rb\") as file:\n",
    "    test_labels = pickle.load(file, encoding='bytes')"
   ]
  },
  {
   "cell_type": "code",
   "execution_count": 6,
   "metadata": {},
   "outputs": [],
   "source": [
    "wsAddress = dict()\n",
    "wsAddress[\"M\"] = 0x80200\n",
    "wsAddress[\"H\"] = 0x80208\n",
    "wsAddress[\"R\"] = 0x80210\n",
    "wsAddress[\"U\"] = 0x80218\n",
    "wsAddress[\"C\"] = 0x80218\n",
    "wsAddress[\"ifMap\"] = 0x02000\n",
    "wsAddress[\"ofMap\"] = 0x08000\n",
    "wsAddress[\"filter\"]= 0x40000\n",
    "wsAddress[\"bias\"]= 0x80000"
   ]
  },
  {
   "cell_type": "code",
   "execution_count": 7,
   "metadata": {},
   "outputs": [],
   "source": [
    "class CNN:\n",
    "    def __init__(self):\n",
    "        self.overlay = None\n",
    "        self.overlay = Overlay(\"/home/xilinx/jupyter_notebooks/yoonseok/ws.bit\")\n",
    "        t2 = t1 = time.time()       \n",
    "        while 1:\n",
    "            t2 = time.time()\n",
    "            if t2 - t1 > 20:\n",
    "                print(\"Time out(20s).\")\n",
    "                break\n",
    "            try:\n",
    "                self.conv_ip = self.overlay.conv_0\n",
    "                self.full_ip = self.overlay.full_0\n",
    "                self.pool_ip = self.overlay.pool_0\n",
    "                break\n",
    "            except:\n",
    "                continue\n",
    "    \n",
    "    def pool(self, ifMap, U, C, H, R):\n",
    "        pass\n",
    "\n",
    "    def conv(self, ifMap, _filter, bias, U, C, H, R, M):\n",
    "        pass\n",
    "\n",
    "    def full(self, ifMap, weight, bias, C, M):\n",
    "        pass\n",
    "\n",
    "    def poolWrite(self, ifMap, C, H, U, R):\n",
    "        pass\n",
    "\n",
    "    def poolRead(self, C, E):\n",
    "        pass\n",
    "\n",
    "    def convWrite(self, ifMap, _filter, bias, H, M, C, R, U):\n",
    "        pass\n",
    "\n",
    "    def convRead(self, M, E):\n",
    "        pass"
   ]
  },
  {
   "cell_type": "code",
   "execution_count": 8,
   "metadata": {},
   "outputs": [
    {
     "name": "stdout",
     "output_type": "stream",
     "text": [
      "hi\n"
     ]
    }
   ],
   "source": [
    "print(\"hi\")"
   ]
  },
  {
   "cell_type": "code",
   "execution_count": 9,
   "metadata": {},
   "outputs": [],
   "source": [
    "def conv(self, ifMap, _filter, bias, U, C, H, R, M):\n",
    "    E = int((H - R) / U) + 1\n",
    "    self.convWrite(ifMap, _filter, bias, H, M, C, R, U)\n",
    "    return self.convRead(M, E)\n",
    "CNN.conv = conv"
   ]
  },
  {
   "cell_type": "code",
   "execution_count": null,
   "metadata": {},
   "outputs": [],
   "source": []
  }
 ],
 "metadata": {
  "kernelspec": {
   "display_name": "Python 3",
   "language": "python",
   "name": "python3"
  },
  "language_info": {
   "codemirror_mode": {
    "name": "ipython",
    "version": 3
   },
   "file_extension": ".py",
   "mimetype": "text/x-python",
   "name": "python",
   "nbconvert_exporter": "python",
   "pygments_lexer": "ipython3",
   "version": "3.6.5"
  }
 },
 "nbformat": 4,
 "nbformat_minor": 2
}
