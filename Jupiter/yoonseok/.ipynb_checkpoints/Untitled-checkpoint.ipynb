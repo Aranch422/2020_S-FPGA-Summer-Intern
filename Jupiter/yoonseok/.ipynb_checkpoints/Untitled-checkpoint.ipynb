{
 "cells": [
  {
   "cell_type": "code",
   "execution_count": 10,
   "metadata": {},
   "outputs": [],
   "source": [
    "from pynq import Overlay\n",
    "import pickle, struct, time, math\n",
    "import numpy as np\n",
    "import matplotlib.pyplot as plt"
   ]
  },
  {
   "cell_type": "code",
   "execution_count": 11,
   "metadata": {},
   "outputs": [],
   "source": [
    "with open(\"weight\", \"rb\") as file:\n",
    "    weightList = pickle.load(file, encoding='bytes')\n",
    "\n",
    "with open(\"test_images\", \"rb\") as file:\n",
    "    test_images = pickle.load(file, encoding='bytes')\n",
    "\n",
    "with open(\"test_labels\", \"rb\") as file:\n",
    "    test_labels = pickle.load(file, encoding='bytes')"
   ]
  },
  {
   "cell_type": "code",
   "execution_count": 12,
   "metadata": {},
   "outputs": [],
   "source": [
    "poolAddress = dict()\n",
    "poolAddress[\"ifMap\"] = 0x8000\n",
    "poolAddress[\"ofMap\"] = 0x10000\n",
    "\n",
    "convAddress = dict()\n",
    "convAddress[\"ifMap\"] = 0x2000\n",
    "convAddress[\"ofMap\"] = 0x8000\n",
    "convAddress[\"_filter\"] = 0x40000\n",
    "convAddress[\"bias\"] = 0x80000\n",
    "\n",
    "fullAddress = dict()\n",
    "fullAddress[\"ifMap\"] = 0x200\n",
    "fullAddress[\"ofMap\"] = 0x400\n",
    "fullAddress[\"weight\"] = 0x10000\n",
    "fullAddress[\"bias\"] = 0x20000"
   ]
  },
  {
   "cell_type": "code",
   "execution_count": 23,
   "metadata": {},
   "outputs": [],
   "source": [
    "class CNN:\n",
    "    def __init__(self):\n",
    "        self.overlay = None\n",
    "        self.overlay = Overlay(\"/home/xilinx/jupyter_notebooks/yoonseok/cnn.bit\")\n",
    "        t2 = t1 = time.time()       \n",
    "        while 1:\n",
    "            t2 = time.time()\n",
    "            if t2 - t1 > 20:\n",
    "                print(\"Time out(20s).\")\n",
    "                break\n",
    "            try:\n",
    "                self.conv_ip = self.overlay.conv_0\n",
    "                self.full_ip = self.overlay.full_0\n",
    "                self.pool_ip = self.overlay.pool_0\n",
    "                break\n",
    "            except:\n",
    "                continue\n",
    "    \n",
    "    def pool(self, ifMap, U, C, H, R):\n",
    "        pass\n",
    "\n",
    "    def conv(self, ifMap, _filter, bias, U, C, H, R, M):\n",
    "        pass\n",
    "\n",
    "    def full(self, ifMap, weight, bias, C, M):\n",
    "        pass\n",
    "\n",
    "    def poolWrite(self, ifMap, C, H, U, R):\n",
    "        pass\n",
    "\n",
    "    def poolRead(self, C, E):\n",
    "        pass\n",
    "\n",
    "    def convWrite(self, ifMap, _filter, bias, H, M, C, R, U):\n",
    "        pass\n",
    "\n",
    "    def convRead(self, M, E):\n",
    "        pass"
   ]
  },
  {
   "cell_type": "code",
   "execution_count": 24,
   "metadata": {},
   "outputs": [],
   "source": [
    "def pool(self, ifMap, U, C, H, R):\n",
    "    E = int((H - R) / U) + 1 \n",
    "    self.poolWrite(ifMap, C, H, U, R)\n",
    "    return self.poolRead(C, E)\n",
    "\n",
    "def conv(self, ifMap, _filter, bias, U, C, H, R, M):\n",
    "    E = int((H - R) / U) + 1\n",
    "    self.convWrite(ifMap, _filter, bias, H, M, C, R, U)\n",
    "    return self.convRead(M, E)\n",
    "\n",
    "def full(self, ifMap, weight, bias, C, M):\n",
    "    self.fullWrite(ifMap, weight, bias, C, M)\n",
    "    return self.fullRead(M)\n",
    "\n",
    "CNN.pool = pool\n",
    "CNN.conv = conv\n",
    "CNN.full = full"
   ]
  },
  {
   "cell_type": "code",
   "execution_count": 25,
   "metadata": {},
   "outputs": [],
   "source": [
    "def poolWrite(self, ifMap, C, H, U, R):\n",
    "    self.pool_ip.register_map.C = C\n",
    "    self.pool_ip.register_map.H = H\n",
    "    self.pool_ip.register_map.U = U\n",
    "    self.pool_ip.register_map.R = R\n",
    "\n",
    "    ifMap = np.array(ifMap, dtype=np.float32).flatten()\n",
    "    self.pool_ip.write(poolAddress[\"ifMap\"], struct.pack(f\"{ifMap.size}f\", *ifMap))\n",
    "\n",
    "def poolRead(self, C, E):\n",
    "    ofMap = [[[0 for _ in range(E)] for _ in range(E)] for _ in range(C)]\n",
    "    for u in range(C):\n",
    "        for x in range(E):\n",
    "            for y in range(E):\n",
    "                readedFloat = self.pool_ip.read(poolAddress[\"ofMap\"] + ((u * E + x) * E + y) * 4)\n",
    "                readedByte = readedFloat.to_bytes(4, byteorder=\"little\")\n",
    "                ofMap[u][x][y] = struct.unpack(\"f\", readedByte)[0]\n",
    "    return ofMap\n",
    "\n",
    "CNN.poolWrite = poolWrite\n",
    "CNN.poolRead = poolRead"
   ]
  },
  {
   "cell_type": "code",
   "execution_count": 26,
   "metadata": {},
   "outputs": [],
   "source": [
    "def convWrite(self, ifMap, _filter, bias, H, M, C, R, U):\n",
    "    self.conv_ip.register_map.H = H\n",
    "    self.conv_ip.register_map.M = M\n",
    "    self.conv_ip.register_map.C = C\n",
    "    self.conv_ip.register_map.R = R\n",
    "    self.conv_ip.register_map.U = U\n",
    "\n",
    "    ifMap = np.array(ifMap, dtype=np.float32).flatten()\n",
    "    self.conv_ip.write(convAddress[\"ifMap\"], struct.pack(f\"{ifMap.size}f\", *ifMap))\n",
    "\n",
    "    _filter = np.array(_filter, dtype=np.float32).flatten()\n",
    "    self.conv_ip.write(convAddress[\"_filter\"], struct.pack(f\"{_filter.size}f\", *_filter))\n",
    "\n",
    "    bias = np.array(bias, dtype=np.float32).flatten()\n",
    "    self.conv_ip.write(convAddress[\"bias\"], struct.pack(f\"{bias.size}f\", *bias))\n",
    "\n",
    "def convRead(self, M, E):\n",
    "    ofMap = [[[0 for _ in range(E)] for _ in range(E)] for _ in range(M)]\n",
    "    for u in range(M):\n",
    "        for x in range(E):\n",
    "            for y in range(E):\n",
    "                readedFloat = self.conv_ip.read(convAddress[\"ofMap\"] + ((u * E + x) * E + y) * 4)\n",
    "                readedByte = readedFloat.to_bytes(4, byteorder=\"little\")\n",
    "                ofMap[u][x][y] = 1.7159 * math.tanh(2 / 3 * struct.unpack('f', readedByte)[0])\n",
    "    return ofMap\n",
    "\n",
    "CNN.convWrite = convWrite\n",
    "CNN.convRead = convRead"
   ]
  },
  {
   "cell_type": "code",
   "execution_count": 27,
   "metadata": {},
   "outputs": [],
   "source": [
    "def fullWrite(self, ifMap, weight, bias, C, M):\n",
    "    self.full_ip.register_map.C = C\n",
    "    self.full_ip.register_map.M = M\n",
    "\n",
    "    ifMap = np.array(ifMap, dtype=np.float32).flatten()\n",
    "    self.full_ip.write(fullAddress['ifMap'], struct.pack('%sf' % ifMap.size, *ifMap))\n",
    "\n",
    "    weight = np.array(weight, dtype=np.float32).flatten()\n",
    "    self.full_ip.write(fullAddress['weight'], struct.pack('%sf' % weight.size, *weight))\n",
    "\n",
    "    bias = np.array(bias, dtype=np.float32).flatten()\n",
    "    self.full_ip.write(fullAddress['bias'], struct.pack('%sf' % bias.size, *bias))\n",
    "\n",
    "def fullRead(self, M):\n",
    "    ofMap = [0 for _ in range(M)]\n",
    "    for j in range(M):\n",
    "        readedFloat = self.full_ip.read(fullAddress['ofMap'] + (j* 4))\n",
    "        readedByte = readedFloat.to_bytes(4, byteorder=\"little\")\n",
    "        ofMap[j] = struct.unpack('f', readedByte)[0]\n",
    "    return ofMap\n",
    "\n",
    "CNN.fullWrite = fullWrite\n",
    "CNN.fullRead = fullRead"
   ]
  },
  {
   "cell_type": "code",
   "execution_count": 28,
   "metadata": {},
   "outputs": [],
   "source": [
    "model = CNN()"
   ]
  },
  {
   "cell_type": "code",
   "execution_count": 29,
   "metadata": {},
   "outputs": [
    {
     "name": "stdout",
     "output_type": "stream",
     "text": [
      "<__main__.CNN object at 0xaf02bc50>\n"
     ]
    }
   ],
   "source": [
    "print(model)"
   ]
  },
  {
   "cell_type": "code",
   "execution_count": 30,
   "metadata": {},
   "outputs": [
    {
     "name": "stdout",
     "output_type": "stream",
     "text": [
      "10\n"
     ]
    },
    {
     "name": "stderr",
     "output_type": "stream",
     "text": [
      "/usr/local/lib/python3.6/dist-packages/pynq/registers.py:422: UserWarning: Unsupported register size 8192 for register Memory_ifMap\n",
      "  v[2], k\n",
      "/usr/local/lib/python3.6/dist-packages/pynq/registers.py:422: UserWarning: Unsupported register size 32768 for register Memory_ofMap\n",
      "  v[2], k\n",
      "/usr/local/lib/python3.6/dist-packages/pynq/registers.py:422: UserWarning: Unsupported register size 262144 for register Memory_filter\n",
      "  v[2], k\n",
      "/usr/local/lib/python3.6/dist-packages/pynq/registers.py:422: UserWarning: Unsupported register size 512 for register Memory_bias\n",
      "  v[2], k\n",
      "/usr/local/lib/python3.6/dist-packages/pynq/registers.py:422: UserWarning: Unsupported register size 32768 for register Memory_ifMap\n",
      "  v[2], k\n",
      "/usr/local/lib/python3.6/dist-packages/pynq/registers.py:422: UserWarning: Unsupported register size 8192 for register Memory_ofMap\n",
      "  v[2], k\n"
     ]
    },
    {
     "ename": "IndexError",
     "evalue": "index 131072 is out of bounds for axis 0 with size 32768",
     "output_type": "error",
     "traceback": [
      "\u001b[0;31m---------------------------------------------------------------------------\u001b[0m",
      "\u001b[0;31mIndexError\u001b[0m                                Traceback (most recent call last)",
      "\u001b[0;32m<ipython-input-30-579ce1271620>\u001b[0m in \u001b[0;36m<module>\u001b[0;34m()\u001b[0m\n\u001b[1;32m      6\u001b[0m \u001b[0;34m\u001b[0m\u001b[0m\n\u001b[1;32m      7\u001b[0m  \u001b[0mC1\u001b[0m \u001b[0;34m=\u001b[0m \u001b[0mmodel\u001b[0m\u001b[0;34m.\u001b[0m\u001b[0mconv\u001b[0m\u001b[0;34m(\u001b[0m\u001b[0mifMap\u001b[0m\u001b[0;34m,\u001b[0m \u001b[0mnp\u001b[0m\u001b[0;34m.\u001b[0m\u001b[0marray\u001b[0m\u001b[0;34m(\u001b[0m\u001b[0mweightList\u001b[0m\u001b[0;34m[\u001b[0m\u001b[0;36m0\u001b[0m\u001b[0;34m]\u001b[0m\u001b[0;34m)\u001b[0m\u001b[0;34m.\u001b[0m\u001b[0mT\u001b[0m\u001b[0;34m.\u001b[0m\u001b[0mtolist\u001b[0m\u001b[0;34m(\u001b[0m\u001b[0;34m)\u001b[0m\u001b[0;34m,\u001b[0m \u001b[0mweightList\u001b[0m\u001b[0;34m[\u001b[0m\u001b[0;36m1\u001b[0m\u001b[0;34m]\u001b[0m\u001b[0;34m,\u001b[0m \u001b[0;36m1\u001b[0m\u001b[0;34m,\u001b[0m \u001b[0;36m1\u001b[0m\u001b[0;34m,\u001b[0m \u001b[0;36m32\u001b[0m\u001b[0;34m,\u001b[0m \u001b[0;36m5\u001b[0m\u001b[0;34m,\u001b[0m \u001b[0;36m6\u001b[0m\u001b[0;34m)\u001b[0m\u001b[0;34m\u001b[0m\u001b[0m\n\u001b[0;32m----> 8\u001b[0;31m  \u001b[0mS2\u001b[0m \u001b[0;34m=\u001b[0m \u001b[0mmodel\u001b[0m\u001b[0;34m.\u001b[0m\u001b[0mpool\u001b[0m\u001b[0;34m(\u001b[0m\u001b[0mC1\u001b[0m\u001b[0;34m,\u001b[0m \u001b[0;36m2\u001b[0m\u001b[0;34m,\u001b[0m \u001b[0;36m6\u001b[0m\u001b[0;34m,\u001b[0m \u001b[0;36m28\u001b[0m\u001b[0;34m,\u001b[0m \u001b[0;36m2\u001b[0m\u001b[0;34m)\u001b[0m\u001b[0;34m\u001b[0m\u001b[0m\n\u001b[0m\u001b[1;32m      9\u001b[0m  \u001b[0mC3\u001b[0m \u001b[0;34m=\u001b[0m \u001b[0mmodel\u001b[0m\u001b[0;34m.\u001b[0m\u001b[0mconv\u001b[0m\u001b[0;34m(\u001b[0m\u001b[0mS2\u001b[0m\u001b[0;34m,\u001b[0m \u001b[0mnp\u001b[0m\u001b[0;34m.\u001b[0m\u001b[0marray\u001b[0m\u001b[0;34m(\u001b[0m\u001b[0mweightList\u001b[0m\u001b[0;34m[\u001b[0m\u001b[0;36m2\u001b[0m\u001b[0;34m]\u001b[0m\u001b[0;34m)\u001b[0m\u001b[0;34m.\u001b[0m\u001b[0mT\u001b[0m\u001b[0;34m.\u001b[0m\u001b[0mtolist\u001b[0m\u001b[0;34m(\u001b[0m\u001b[0;34m)\u001b[0m\u001b[0;34m,\u001b[0m \u001b[0mweightList\u001b[0m\u001b[0;34m[\u001b[0m\u001b[0;36m3\u001b[0m\u001b[0;34m]\u001b[0m\u001b[0;34m,\u001b[0m \u001b[0;36m1\u001b[0m\u001b[0;34m,\u001b[0m \u001b[0;36m6\u001b[0m\u001b[0;34m,\u001b[0m \u001b[0;36m14\u001b[0m\u001b[0;34m,\u001b[0m \u001b[0;36m5\u001b[0m\u001b[0;34m,\u001b[0m \u001b[0;36m16\u001b[0m\u001b[0;34m)\u001b[0m\u001b[0;34m\u001b[0m\u001b[0m\n\u001b[1;32m     10\u001b[0m  \u001b[0mS4\u001b[0m \u001b[0;34m=\u001b[0m \u001b[0mmodel\u001b[0m\u001b[0;34m.\u001b[0m\u001b[0mpool\u001b[0m\u001b[0;34m(\u001b[0m\u001b[0mC3\u001b[0m\u001b[0;34m,\u001b[0m \u001b[0;36m2\u001b[0m\u001b[0;34m,\u001b[0m \u001b[0;36m16\u001b[0m\u001b[0;34m,\u001b[0m \u001b[0;36m10\u001b[0m\u001b[0;34m,\u001b[0m \u001b[0;36m2\u001b[0m\u001b[0;34m)\u001b[0m\u001b[0;34m\u001b[0m\u001b[0m\n",
      "\u001b[0;32m<ipython-input-24-031b68c777a0>\u001b[0m in \u001b[0;36mpool\u001b[0;34m(self, ifMap, U, C, H, R)\u001b[0m\n\u001b[1;32m      1\u001b[0m \u001b[0;32mdef\u001b[0m \u001b[0mpool\u001b[0m\u001b[0;34m(\u001b[0m\u001b[0mself\u001b[0m\u001b[0;34m,\u001b[0m \u001b[0mifMap\u001b[0m\u001b[0;34m,\u001b[0m \u001b[0mU\u001b[0m\u001b[0;34m,\u001b[0m \u001b[0mC\u001b[0m\u001b[0;34m,\u001b[0m \u001b[0mH\u001b[0m\u001b[0;34m,\u001b[0m \u001b[0mR\u001b[0m\u001b[0;34m)\u001b[0m\u001b[0;34m:\u001b[0m\u001b[0;34m\u001b[0m\u001b[0m\n\u001b[1;32m      2\u001b[0m     \u001b[0mE\u001b[0m \u001b[0;34m=\u001b[0m \u001b[0mint\u001b[0m\u001b[0;34m(\u001b[0m\u001b[0;34m(\u001b[0m\u001b[0mH\u001b[0m \u001b[0;34m-\u001b[0m \u001b[0mR\u001b[0m\u001b[0;34m)\u001b[0m \u001b[0;34m/\u001b[0m \u001b[0mU\u001b[0m\u001b[0;34m)\u001b[0m \u001b[0;34m+\u001b[0m \u001b[0;36m1\u001b[0m\u001b[0;34m\u001b[0m\u001b[0m\n\u001b[0;32m----> 3\u001b[0;31m     \u001b[0mself\u001b[0m\u001b[0;34m.\u001b[0m\u001b[0mpoolWrite\u001b[0m\u001b[0;34m(\u001b[0m\u001b[0mifMap\u001b[0m\u001b[0;34m,\u001b[0m \u001b[0mC\u001b[0m\u001b[0;34m,\u001b[0m \u001b[0mH\u001b[0m\u001b[0;34m,\u001b[0m \u001b[0mU\u001b[0m\u001b[0;34m,\u001b[0m \u001b[0mR\u001b[0m\u001b[0;34m)\u001b[0m\u001b[0;34m\u001b[0m\u001b[0m\n\u001b[0m\u001b[1;32m      4\u001b[0m     \u001b[0;32mreturn\u001b[0m \u001b[0mself\u001b[0m\u001b[0;34m.\u001b[0m\u001b[0mpoolRead\u001b[0m\u001b[0;34m(\u001b[0m\u001b[0mC\u001b[0m\u001b[0;34m,\u001b[0m \u001b[0mE\u001b[0m\u001b[0;34m)\u001b[0m\u001b[0;34m\u001b[0m\u001b[0m\n\u001b[1;32m      5\u001b[0m \u001b[0;34m\u001b[0m\u001b[0m\n",
      "\u001b[0;32m<ipython-input-25-6d6c5c6a3288>\u001b[0m in \u001b[0;36mpoolWrite\u001b[0;34m(self, ifMap, C, H, U, R)\u001b[0m\n\u001b[1;32m      6\u001b[0m \u001b[0;34m\u001b[0m\u001b[0m\n\u001b[1;32m      7\u001b[0m     \u001b[0mifMap\u001b[0m \u001b[0;34m=\u001b[0m \u001b[0mnp\u001b[0m\u001b[0;34m.\u001b[0m\u001b[0marray\u001b[0m\u001b[0;34m(\u001b[0m\u001b[0mifMap\u001b[0m\u001b[0;34m,\u001b[0m \u001b[0mdtype\u001b[0m\u001b[0;34m=\u001b[0m\u001b[0mnp\u001b[0m\u001b[0;34m.\u001b[0m\u001b[0mfloat32\u001b[0m\u001b[0;34m)\u001b[0m\u001b[0;34m.\u001b[0m\u001b[0mflatten\u001b[0m\u001b[0;34m(\u001b[0m\u001b[0;34m)\u001b[0m\u001b[0;34m\u001b[0m\u001b[0m\n\u001b[0;32m----> 8\u001b[0;31m     \u001b[0mself\u001b[0m\u001b[0;34m.\u001b[0m\u001b[0mpool_ip\u001b[0m\u001b[0;34m.\u001b[0m\u001b[0mwrite\u001b[0m\u001b[0;34m(\u001b[0m\u001b[0mpoolAddress\u001b[0m\u001b[0;34m[\u001b[0m\u001b[0;34m\"ifMap\"\u001b[0m\u001b[0;34m]\u001b[0m\u001b[0;34m,\u001b[0m \u001b[0mstruct\u001b[0m\u001b[0;34m.\u001b[0m\u001b[0mpack\u001b[0m\u001b[0;34m(\u001b[0m\u001b[0;34mf\"{ifMap.size}f\"\u001b[0m\u001b[0;34m,\u001b[0m \u001b[0;34m*\u001b[0m\u001b[0mifMap\u001b[0m\u001b[0;34m)\u001b[0m\u001b[0;34m)\u001b[0m\u001b[0;34m\u001b[0m\u001b[0m\n\u001b[0m\u001b[1;32m      9\u001b[0m \u001b[0;34m\u001b[0m\u001b[0m\n\u001b[1;32m     10\u001b[0m \u001b[0;32mdef\u001b[0m \u001b[0mpoolRead\u001b[0m\u001b[0;34m(\u001b[0m\u001b[0mself\u001b[0m\u001b[0;34m,\u001b[0m \u001b[0mC\u001b[0m\u001b[0;34m,\u001b[0m \u001b[0mE\u001b[0m\u001b[0;34m)\u001b[0m\u001b[0;34m:\u001b[0m\u001b[0;34m\u001b[0m\u001b[0m\n",
      "\u001b[0;32m/usr/local/lib/python3.6/dist-packages/pynq/overlay.py\u001b[0m in \u001b[0;36mwrite\u001b[0;34m(self, offset, value)\u001b[0m\n\u001b[1;32m    712\u001b[0m \u001b[0;34m\u001b[0m\u001b[0m\n\u001b[1;32m    713\u001b[0m         \"\"\"\n\u001b[0;32m--> 714\u001b[0;31m         \u001b[0mself\u001b[0m\u001b[0;34m.\u001b[0m\u001b[0mmmio\u001b[0m\u001b[0;34m.\u001b[0m\u001b[0mwrite\u001b[0m\u001b[0;34m(\u001b[0m\u001b[0moffset\u001b[0m\u001b[0;34m,\u001b[0m \u001b[0mvalue\u001b[0m\u001b[0;34m)\u001b[0m\u001b[0;34m\u001b[0m\u001b[0m\n\u001b[0m\u001b[1;32m    715\u001b[0m \u001b[0;34m\u001b[0m\u001b[0m\n\u001b[1;32m    716\u001b[0m \u001b[0;34m\u001b[0m\u001b[0m\n",
      "\u001b[0;32m/usr/local/lib/python3.6/dist-packages/pynq/mmio.py\u001b[0m in \u001b[0;36mwrite_mm\u001b[0;34m(self, offset, data)\u001b[0m\n\u001b[1;32m    172\u001b[0m             \u001b[0mbuf\u001b[0m \u001b[0;34m=\u001b[0m \u001b[0mnp\u001b[0m\u001b[0;34m.\u001b[0m\u001b[0mfrombuffer\u001b[0m\u001b[0;34m(\u001b[0m\u001b[0mdata\u001b[0m\u001b[0;34m,\u001b[0m \u001b[0mnp\u001b[0m\u001b[0;34m.\u001b[0m\u001b[0muint32\u001b[0m\u001b[0;34m,\u001b[0m \u001b[0mnum_words\u001b[0m\u001b[0;34m,\u001b[0m \u001b[0;36m0\u001b[0m\u001b[0;34m)\u001b[0m\u001b[0;34m\u001b[0m\u001b[0m\n\u001b[1;32m    173\u001b[0m             \u001b[0;32mfor\u001b[0m \u001b[0mi\u001b[0m \u001b[0;32min\u001b[0m \u001b[0mrange\u001b[0m\u001b[0;34m(\u001b[0m\u001b[0mlen\u001b[0m\u001b[0;34m(\u001b[0m\u001b[0mbuf\u001b[0m\u001b[0;34m)\u001b[0m\u001b[0;34m)\u001b[0m\u001b[0;34m:\u001b[0m\u001b[0;34m\u001b[0m\u001b[0m\n\u001b[0;32m--> 174\u001b[0;31m                 \u001b[0mself\u001b[0m\u001b[0;34m.\u001b[0m\u001b[0marray\u001b[0m\u001b[0;34m[\u001b[0m\u001b[0midx\u001b[0m \u001b[0;34m+\u001b[0m \u001b[0mi\u001b[0m\u001b[0;34m]\u001b[0m \u001b[0;34m=\u001b[0m \u001b[0mbuf\u001b[0m\u001b[0;34m[\u001b[0m\u001b[0mi\u001b[0m\u001b[0;34m]\u001b[0m\u001b[0;34m\u001b[0m\u001b[0m\n\u001b[0m\u001b[1;32m    175\u001b[0m         \u001b[0;32melse\u001b[0m\u001b[0;34m:\u001b[0m\u001b[0;34m\u001b[0m\u001b[0m\n\u001b[1;32m    176\u001b[0m             \u001b[0;32mraise\u001b[0m \u001b[0mValueError\u001b[0m\u001b[0;34m(\u001b[0m\u001b[0;34m\"Data type must be int or bytes.\"\u001b[0m\u001b[0;34m)\u001b[0m\u001b[0;34m\u001b[0m\u001b[0m\n",
      "\u001b[0;31mIndexError\u001b[0m: index 131072 is out of bounds for axis 0 with size 32768"
     ]
    }
   ],
   "source": [
    "idx = int(input())\n",
    "\n",
    "for i in range(0,32):\n",
    "\n",
    " ifMap = test_images[i].T.reshape(32, 32).tolist()\n",
    "\n",
    " C1 = model.conv(ifMap, np.array(weightList[0]).T.tolist(), weightList[1], 1, 1, 32, 5, 6)\n",
    " S2 = model.pool(C1, 2, 6, 28, 2)\n",
    " C3 = model.conv(S2, np.array(weightList[2]).T.tolist(), weightList[3], 1, 6, 14, 5, 16)\n",
    " S4 = model.pool(C3, 2, 16, 10, 2)\n",
    " C5 = model.conv(S4, np.array(weightList[4]).T.tolist(), weightList[5], 1, 16, 5, 5, 120)\n",
    " F6 = model.full(np.array(C5).reshape(120), weightList[6], weightList[7], 120, 84)\n",
    " ofMap = model.full(F6, weightList[8], weightList[9], 84, 10)\n",
    "\n",
    " print(f\"예측: {np.argmax(ofMap)}, 정답: {test_labels[i]}\")\n",
    "\n",
    "pixels = test_images[idx].reshape(32, 32)\n",
    "plt.imshow(pixels, cmap='gray')\n",
    "plt.show()"
   ]
  },
  {
   "cell_type": "code",
   "execution_count": null,
   "metadata": {
    "collapsed": true
   },
   "outputs": [],
   "source": []
  }
 ],
 "metadata": {
  "kernelspec": {
   "display_name": "Python 3",
   "language": "python",
   "name": "python3"
  },
  "language_info": {
   "codemirror_mode": {
    "name": "ipython",
    "version": 3
   },
   "file_extension": ".py",
   "mimetype": "text/x-python",
   "name": "python",
   "nbconvert_exporter": "python",
   "pygments_lexer": "ipython3",
   "version": "3.6.5"
  }
 },
 "nbformat": 4,
 "nbformat_minor": 2
}
